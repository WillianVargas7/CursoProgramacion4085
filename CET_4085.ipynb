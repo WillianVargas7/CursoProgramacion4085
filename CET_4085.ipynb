{
  "nbformat": 4,
  "nbformat_minor": 0,
  "metadata": {
    "colab": {
      "provenance": []
    },
    "kernelspec": {
      "name": "python3",
      "display_name": "Python 3"
    },
    "language_info": {
      "name": "python"
    }
  },
  "cells": [
    {
      "cell_type": "markdown",
      "source": [
        "### **Taller 1**"
      ],
      "metadata": {
        "id": "XFCtOl8yffCv"
      }
    },
    {
      "cell_type": "code",
      "execution_count": null,
      "metadata": {
        "id": "l2Qc7m2d5hPh",
        "colab": {
          "base_uri": "https://localhost:8080/"
        },
        "outputId": "50dea2dd-bab3-4053-e325-3ae3ea637025"
      },
      "outputs": [
        {
          "output_type": "stream",
          "name": "stdout",
          "text": [
            "DATOS\n",
            "Nunero de identificación: 1034456789\n",
            "Nombres: Willian Fernando\n",
            "Apellidos: Vargas Ruiz\n",
            "Numero de documento: 1034456789\n",
            "Teléfono: 3214567890\n",
            "Edad: 36 años\n",
            "Estado civil: Casado\n",
            "Número de hijos: 1\n",
            "Estatura: 170 centímetros\n",
            "Fecha de contratación: 01/02/2023\n",
            "Sueldo básico: 1000000\n",
            "Días laborados: 30\n"
          ]
        }
      ],
      "source": [
        "# Recopilando datos para imprimir\n",
        "id = 1034456789\n",
        "primerNombre = \"Willian\"\n",
        "segundoNombre = \"Fernando\"\n",
        "primerApellido = \"Vargas\"\n",
        "segundoApellido = \"Ruiz\"\n",
        "direccion = \"calle 12 # 13 - 43\"\n",
        "telefono = 3214567890\n",
        "edad = 36\n",
        "estadoCivil = \"Casado\"\n",
        "numeroHijos = 1\n",
        "estatura = 170\n",
        "fechaContratacion = \"01/02/2023\"\n",
        "sueldoBasico = 1000000\n",
        "diasLaborados = 30\n",
        "\n",
        "# Imprimiendo datos\n",
        "print(\"DATOS\")\n",
        "print(\"Nunero de identificación:\", id)\n",
        "print(\"Nombres: \" + primerNombre, segundoNombre)\n",
        "print(\"Apellidos: \" + primerApellido, segundoApellido)\n",
        "print(\"Numero de documento:\", id)\n",
        "print(\"Teléfono:\", telefono)\n",
        "print(\"Edad:\", edad, \"años\")\n",
        "print(\"Estado civil: \" + estadoCivil)\n",
        "print(\"Número de hijos:\", numeroHijos)\n",
        "print(\"Estatura:\", estatura, \"centímetros\")\n",
        "print(\"Fecha de contratación: \" + fechaContratacion)\n",
        "print(\"Sueldo básico:\", sueldoBasico)\n",
        "print(\"Días laborados:\", diasLaborados)"
      ]
    },
    {
      "cell_type": "code",
      "source": [
        "# Recopilando datos para imprimir\n",
        "id = 1034456789\n",
        "primerNombre = \"Willian\"\n",
        "segundoNombre = \"Fernando\"\n",
        "primerApellido = \"Vargas\"\n",
        "segundoApellido = \"Ruiz\"\n",
        "direccion = \"calle 12 # 13 - 43\"\n",
        "telefono = 3214567890\n",
        "edad = 36\n",
        "estadoCivil = \"Casado\"\n",
        "numeroHijos = 1\n",
        "estatura = 170\n",
        "fechaContratacion = \"01/02/2023\"\n",
        "sueldoBasico = 1000000\n",
        "diasLaborados = 30\n",
        "\n",
        "# Imprimiendo datos\n",
        "print(f\"\"\"\n",
        "DATOS\n",
        "\n",
        "Numero de identificacíon: {id}\n",
        "Nombre: {primerNombre} {segundoNombre} {primerApellido} {segundoApellido}\n",
        "Dirección: {direccion}\n",
        "Teléfono: {telefono}\n",
        "Edad: {edad} años\n",
        "Estado civil: {estadoCivil}\n",
        "Número de hijos: {numeroHijos}\n",
        "Estatura: {estatura} centimetros\n",
        "Fecha de contratación: {fechaContratacion}\n",
        "Sueldo básico: {sueldoBasico}\n",
        "Días laborados: {diasLaborados}\n",
        "\"\"\")"
      ],
      "metadata": {
        "colab": {
          "base_uri": "https://localhost:8080/"
        },
        "id": "pngGi6FWOYIl",
        "outputId": "6ac97cb5-daf7-4710-8061-c467b1e41e84"
      },
      "execution_count": null,
      "outputs": [
        {
          "output_type": "stream",
          "name": "stdout",
          "text": [
            "\n",
            "DATOS\n",
            "\n",
            "Numero de identificacíon: 1034456789\n",
            "Nombre: Willian Fernando Vargas Ruiz\n",
            "Dirección: calle 12 # 13 - 43\n",
            "Teléfono: 3214567890\n",
            "Edad: 36 años\n",
            "Estado civil: Casado\n",
            "Número de hijos: 1\n",
            "Estatura: 170 centimetros\n",
            "Fecha de contratación: 01/02/2023\n",
            "Sueldo básico: 1000000\n",
            "Días laborados: 30\n",
            "\n"
          ]
        }
      ]
    },
    {
      "cell_type": "markdown",
      "source": [
        "### **Taller 2**"
      ],
      "metadata": {
        "id": "0CHSSEDJfMGV"
      }
    },
    {
      "cell_type": "code",
      "source": [
        "# Datos empleados\n",
        "id = int(input(\"ingrese su numero de identificación: \"))\n",
        "nombre = input(\"Ingrese su nombre: \").title()\n",
        "apellido = input(\"Ingrese su apellido: \").title()\n",
        "direccion = input(\"Ingrese su direccion: \")\n",
        "telefono = int(input(\"Ingrese su telefono: \"))\n",
        "edad = int(input(\"Ingrese su edad: \"))\n",
        "estadoCivil = input(\"Ingrese su estado civil: \").title()\n",
        "numeroHijos = int(input(\"Cuantos hijos tiene? \"))\n",
        "estatura = float(input(\"Ingrese su estatura: \"))\n",
        "fechaContratacion = (input(\"Ingrese fecha de contratación dd/mm/aaaa: \"))\n",
        "sueldoBasico = int(input(\"Ingrese su sueldo base: \"))\n",
        "diasLaborados = int(input(\"Ingrese sus dias laborados: \"))\n",
        "\n",
        "# Validando datos\n",
        "# 1. Si el empleado es mayor de 55 años disfrutará de un bono de prepensión correspondiente al 5% de su sueldo básico.\n",
        "\n",
        "def validarBono(edad):\n",
        "  if edad > 55:\n",
        "    bono = sueldoBasico * 0.05 \n",
        "    print(f\"\\n{nombre} {apellido} usted es beneficiario de un bono de prepensión de ${bono:,.2f}\")\n",
        "validarBono(edad)\n",
        "\n",
        "# 2. Si el empleado es casado y tiene hijos se le otorgará un paseo cada diciembre\n",
        "\n",
        "def validarEstado(estado):\n",
        "  if estado == \"Casado\" and numeroHijos > 0:\n",
        "    print(f\"\\n{nombre} {apellido} usted y su famila tienen como obsequio un paseo a fin de año\")\n",
        "validarEstado(estadoCivil)\n",
        "\n",
        "# 3. Si el sueldo básico está entre 1000000 y 1500000 tendrá una comisión del 2% sobre el valor del sueldo; \n",
        "# Si el sueldo básico está entre 1500001 y 2000000 tendrá una comisión del 5% sobre el valor del sueldo; para \n",
        "# todos los demás casos no habrá comisión.\n",
        "\n",
        "if sueldoBasico >= 1000000 and sueldoBasico <= 1500000:\n",
        "  comision = sueldoBasico * 0.02\n",
        "elif sueldoBasico > 1500000 and sueldoBasico <= 2000000:\n",
        "  comision = sueldoBasico * 0.05\n",
        "print(f\"\\n{nombre} {apellido} usted es acreedor a una comsión por el valor de ${comision:,.2f}\")\n",
        "\n",
        "\n",
        "# 4. Si el empleado trabajó más de 20 días al mes y su sueldo es menor a 1000000 tendrá derecho a un bono de alimentación.\n",
        "def validarDias(diasLaborados):\n",
        "  if diasLaborados >= 20 and sueldoBasico < 1000000:\n",
        "    print(f\"\\n{nombre} {apellido} usted tiene derecho a un bono de alimentación\")\n",
        "validarDias(diasLaborados)\n"
      ],
      "metadata": {
        "id": "PAucN17wfmqu",
        "colab": {
          "base_uri": "https://localhost:8080/"
        },
        "outputId": "8fa21cfb-4f99-44f1-b291-c7eeccddb22a"
      },
      "execution_count": 19,
      "outputs": [
        {
          "output_type": "stream",
          "name": "stdout",
          "text": [
            "ingrese su numero de identificación: 1023456789\n",
            "Ingrese su nombre: willian\n",
            "Ingrese su apellido: vargas\n",
            "Ingrese su direccion: calle 12 # 13 - 34\n",
            "Ingrese su telefono: 3214567890\n",
            "Ingrese su edad: 56\n",
            "Ingrese su estado civil: casado\n",
            "Cuantos hijos tiene? 1\n",
            "Ingrese su estatura: 170\n",
            "Ingrese fecha de contratación dd/mm/aaaa: 23/01/2022\n",
            "Ingrese su sueldo base: 900000\n",
            "Ingrese sus dias laborados: 30\n",
            "\n",
            "Willian Vargas usted es beneficiario de un bono de prepensión de $45,000.00\n",
            "\n",
            "Willian Vargas usted y su famila tienen como obsequio un paseo a fin de año\n",
            "\n",
            "Willian Vargas usted es acreedor a una comsión por el valor de $26,000.00\n",
            "\n",
            "Willian Vargas usted tiene derecho a un bono de alimentación\n"
          ]
        }
      ]
    },
    {
      "cell_type": "markdown",
      "source": [
        "### **TALLER DE REFUERZO**"
      ],
      "metadata": {
        "id": "pl_d0kMZAxRD"
      }
    },
    {
      "cell_type": "markdown",
      "source": [
        "1. Se necesita un sistema que despliega una tabla de\n",
        "multiplicar de un número dado por el usuario. ciclo for"
      ],
      "metadata": {
        "id": "EPI7YqGcBOWq"
      }
    },
    {
      "cell_type": "code",
      "source": [
        "numero = int(input(\"Digite el número de la tabla de multiplicar: \"))\n",
        "\n",
        "for i in range(1, 10):\n",
        "  print(i, \" x \", numero , \" = \", numero * i)"
      ],
      "metadata": {
        "colab": {
          "base_uri": "https://localhost:8080/"
        },
        "id": "EC9fgDCDA6i0",
        "outputId": "c0505a5b-77a4-4cd3-8b35-6bd3e88da520"
      },
      "execution_count": 1,
      "outputs": [
        {
          "output_type": "stream",
          "name": "stdout",
          "text": [
            "Digite el número de la tabla de multiplicar: 8\n",
            "1  x  8  =  8\n",
            "2  x  8  =  16\n",
            "3  x  8  =  24\n",
            "4  x  8  =  32\n",
            "5  x  8  =  40\n",
            "6  x  8  =  48\n",
            "7  x  8  =  56\n",
            "8  x  8  =  64\n",
            "9  x  8  =  72\n"
          ]
        }
      ]
    },
    {
      "cell_type": "markdown",
      "source": [
        "2. Se necesita un sistema que pida un sueldo de un\n",
        "trabajador, si el sueldo es mayor a 655000, no tedrá\n",
        "ninguna bonificación, pero si es menor tiene bonificación\n",
        "del 4%. Al final se desea saber el total del sueldo con\n",
        "o sin bonificación. Preguntar si desea ejecutar de nuevo\n",
        "el programa con el ciclo while."
      ],
      "metadata": {
        "id": "gbkYVZxQBc7c"
      }
    },
    {
      "cell_type": "code",
      "source": [
        "def validandoSalario(salario):\n",
        "  if salario < 655000:\n",
        "    bono = salario * 0.04\n",
        "    salarioTotal = salario + bono\n",
        "    print(f\"Usted tiene una bonificación de 4% su salario es de ${salarioTotal:,.2f}\")\n",
        "  else:\n",
        "    print(f\"Usted no tiene ninguna bonificación su salario es de ${salario:,.2f}\")\n",
        "  \n",
        "\n",
        "resp = \"si\"\n",
        "while resp == \"si\":\n",
        "  salario = float(input(\"\\nIngrese su salario: \"))\n",
        "  validandoSalario(salario)\n",
        "  resp = input(\"¿Desea realizar de nuevo su consulta? \").lower()\n",
        "else:\n",
        "  print(\"\\nConsulta terninada, ¡gracias!\")"
      ],
      "metadata": {
        "colab": {
          "base_uri": "https://localhost:8080/"
        },
        "id": "UqFVocvUBkpB",
        "outputId": "6dd776d5-8d87-446e-8087-838beb6ff7e3"
      },
      "execution_count": 23,
      "outputs": [
        {
          "output_type": "stream",
          "name": "stdout",
          "text": [
            "\n",
            "Ingrese su salario: 550000\n",
            "Usted tiene una bonificación de 4% su salario es de $572,000.00\n",
            "¿Desea realizar de nuevo su consulta? si\n",
            "\n",
            "Ingrese su salario: 700000\n",
            "Usted no tiene ninguna bonificación su salario es de $700,000.00\n",
            "¿Desea realizar de nuevo su consulta? no\n",
            "\n",
            "Consulta terninada, ¡gracias!\n"
          ]
        }
      ]
    },
    {
      "cell_type": "markdown",
      "source": [
        "3. Un maestro necesita un sistema para capturar las\n",
        "calificaciones de 5 parciales de sus alumnos, después\n",
        "recapturarlas necesita que se despliegue el promedio,\n",
        "cuando ya no quiera capturar más alumnos, necesita que\n",
        "se despliegue el promedio general de todos los alumnos\n",
        "capturados. Preguntar si desea ejecutar de nuevo el\n",
        "programa con el ciclo while."
      ],
      "metadata": {
        "id": "1e5xPoujCYVm"
      }
    },
    {
      "cell_type": "code",
      "source": [
        "resp = \"si\"\n",
        "while resp == \"si\":\n",
        "  calif1 = float(input(\"Ingrese la calificación del parcial: \"))\n",
        "  calif2 = float(input(\"Ingrese la calificación del parcial: \"))\n",
        "  calif3 = float(input(\"Ingrese la calificación del parcial: \"))\n",
        "  calif4 = float(input(\"Ingrese la calificación del parcial: \"))\n",
        "  calif5 = float(input(\"Ingrese la calificación del parcial: \"))\n",
        "\n",
        "  x = round((calif1 + calif2 + calif3 + calif4 + calif5) / 5, 2)\n",
        "  print(f\"El promedio de calificación del alumno es de {x}\")\n",
        "  resp = input(\"¿Desea ingresar otro registro? \").lower()\n",
        "\n",
        "  while x + x:\n",
        "    x = x / 2\n",
        "    promTotal = x\n",
        "else:\n",
        "  print(f\"el promedio de calificaciones de los estudiantes es de {promTotal:,.1f}\")\n",
        "\n",
        "#Aún no resuelto"
      ],
      "metadata": {
        "id": "osBuYaQbCpLb"
      },
      "execution_count": null,
      "outputs": []
    },
    {
      "cell_type": "markdown",
      "source": [
        "4. Crear un bucle que cuente todos los números pares hasta\n",
        "el 100 ciclo for"
      ],
      "metadata": {
        "id": "5dYjS-fJCqwe"
      }
    },
    {
      "cell_type": "code",
      "source": [
        "for i in range(0,101,2):\n",
        "  print(i)"
      ],
      "metadata": {
        "colab": {
          "base_uri": "https://localhost:8080/"
        },
        "id": "aZhnzYM2CyDL",
        "outputId": "9f137b30-f8c1-4af3-b20e-c4bfe1a2bec8"
      },
      "execution_count": 3,
      "outputs": [
        {
          "output_type": "stream",
          "name": "stdout",
          "text": [
            "0\n",
            "2\n",
            "4\n",
            "6\n",
            "8\n",
            "10\n",
            "12\n",
            "14\n",
            "16\n",
            "18\n",
            "20\n",
            "22\n",
            "24\n",
            "26\n",
            "28\n",
            "30\n",
            "32\n",
            "34\n",
            "36\n",
            "38\n",
            "40\n",
            "42\n",
            "44\n",
            "46\n",
            "48\n",
            "50\n",
            "52\n",
            "54\n",
            "56\n",
            "58\n",
            "60\n",
            "62\n",
            "64\n",
            "66\n",
            "68\n",
            "70\n",
            "72\n",
            "74\n",
            "76\n",
            "78\n",
            "80\n",
            "82\n",
            "84\n",
            "86\n",
            "88\n",
            "90\n",
            "92\n",
            "94\n",
            "96\n",
            "98\n",
            "100\n"
          ]
        }
      ]
    },
    {
      "cell_type": "markdown",
      "source": [
        "5. Haz una tabla de multiplicar utilizando el ciclo for\n",
        "ciclo for"
      ],
      "metadata": {
        "id": "jTgNgZ3tC3Fz"
      }
    },
    {
      "cell_type": "code",
      "source": [
        "num = 5\n",
        "\n",
        "for i in range(11):\n",
        "  print(i, \" x \", num , \" = \", num * i)"
      ],
      "metadata": {
        "colab": {
          "base_uri": "https://localhost:8080/"
        },
        "id": "RELOZc3qC-gU",
        "outputId": "fecd8d72-0793-4a75-948d-7b32f20e85e4"
      },
      "execution_count": 4,
      "outputs": [
        {
          "output_type": "stream",
          "name": "stdout",
          "text": [
            "0  x  5  =  0\n",
            "1  x  5  =  5\n",
            "2  x  5  =  10\n",
            "3  x  5  =  15\n",
            "4  x  5  =  20\n",
            "5  x  5  =  25\n",
            "6  x  5  =  30\n",
            "7  x  5  =  35\n",
            "8  x  5  =  40\n",
            "9  x  5  =  45\n",
            "10  x  5  =  50\n"
          ]
        }
      ]
    },
    {
      "cell_type": "markdown",
      "source": [
        "6. Escribir un programa que pregunte al usuario su edad y\n",
        "muestre por pantalla todos los años que ha cumplido\n",
        "(desde 1 hasta su edad). ciclo for"
      ],
      "metadata": {
        "id": "cogaeIdNDDwq"
      }
    },
    {
      "cell_type": "code",
      "source": [
        "edad = int(input(\"Digite su edad: \"))\n",
        "rango = edad +1\n",
        "\n",
        "for i in range(1, rango):\n",
        "  print(i)"
      ],
      "metadata": {
        "colab": {
          "base_uri": "https://localhost:8080/"
        },
        "id": "1_WSnAXmDIgC",
        "outputId": "cb290af7-bde3-42c4-8832-2edb44e0d146"
      },
      "execution_count": 15,
      "outputs": [
        {
          "output_type": "stream",
          "name": "stdout",
          "text": [
            "Digite su edad: 16\n",
            "1\n",
            "2\n",
            "3\n",
            "4\n",
            "5\n",
            "6\n",
            "7\n",
            "8\n",
            "9\n",
            "10\n",
            "11\n",
            "12\n",
            "13\n",
            "14\n",
            "15\n",
            "16\n"
          ]
        }
      ]
    }
  ]
}